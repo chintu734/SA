{
 "cells": [
  {
   "cell_type": "code",
   "execution_count": 1,
   "id": "d39b367e-c8d1-410a-ae56-a6527ec77144",
   "metadata": {},
   "outputs": [],
   "source": [
    "import nltk,spacy\n",
    "from nltk.corpus import stopwords\n",
    "from nltk import word_tokenize,pos_tag,ngrams\n"
   ]
  },
  {
   "cell_type": "code",
   "execution_count": 2,
   "id": "88efe28a-e286-490e-a67f-3e52930d3fea",
   "metadata": {},
   "outputs": [],
   "source": [
    "nlp=spacy.load('en_core_web_sm')"
   ]
  },
  {
   "cell_type": "code",
   "execution_count": 14,
   "id": "7904c9f8-6423-4ba3-87cf-f81e90c163c5",
   "metadata": {},
   "outputs": [],
   "source": [
    "text='apple is looking at buying u.k.start up for $1 billion in 2025'"
   ]
  },
  {
   "cell_type": "code",
   "execution_count": 15,
   "id": "2886663b-58cb-43b4-8a18-72c5bd9eb87d",
   "metadata": {},
   "outputs": [
    {
     "name": "stdout",
     "output_type": "stream",
     "text": [
      "['apple', 'is', 'looking', 'at', 'buying', 'u.k.start', 'up', 'for', '$', '1', 'billion', 'in', '2025']\n"
     ]
    }
   ],
   "source": [
    "token=word_tokenize(text)\n",
    "print(token)"
   ]
  },
  {
   "cell_type": "code",
   "execution_count": 16,
   "id": "d639fa1e-775e-47da-9a81-dc73febc8d59",
   "metadata": {},
   "outputs": [
    {
     "name": "stdout",
     "output_type": "stream",
     "text": [
      "['apple', 'looking', 'buying', 'billion']\n"
     ]
    }
   ],
   "source": [
    "filter=[w for w in token if w.isalpha() and w.lower() not in stopwords.words('English')]\n",
    "print(filter)"
   ]
  },
  {
   "cell_type": "code",
   "execution_count": 17,
   "id": "e826bcf4-6094-432f-8538-faf89b6d3b18",
   "metadata": {},
   "outputs": [],
   "source": [
    "import string\n",
    "punt=[w for w in filter if w not in string.punctuation]"
   ]
  },
  {
   "cell_type": "code",
   "execution_count": 18,
   "id": "4b25ae8c-a254-4f23-9b40-9fab5fe39cfe",
   "metadata": {},
   "outputs": [
    {
     "name": "stdout",
     "output_type": "stream",
     "text": [
      "[('apple', 'NN'), ('looking', 'VBG'), ('buying', 'VBG'), ('billion', 'CD')]\n"
     ]
    }
   ],
   "source": [
    "print(pos_tag(filter))"
   ]
  },
  {
   "cell_type": "code",
   "execution_count": 19,
   "id": "3c3b666f-eb3f-49a3-a6cb-e319b57f3048",
   "metadata": {},
   "outputs": [
    {
     "name": "stdout",
     "output_type": "stream",
     "text": [
      "[('apple', 'ORG'), ('$1 billion', 'MONEY'), ('2025', 'DATE')]\n"
     ]
    },
    {
     "data": {
      "text/plain": [
       "apple is looking at buying u.k.start up for $1 billion in 2025"
      ]
     },
     "execution_count": 19,
     "metadata": {},
     "output_type": "execute_result"
    }
   ],
   "source": [
    "doc=nlp(text)\n",
    "print([(ent.text,ent.label_)for ent in doc.ents])\n",
    "doc"
   ]
  },
  {
   "cell_type": "code",
   "execution_count": 23,
   "id": "1ac7aad1-0729-4437-9cf8-7e75202923bd",
   "metadata": {},
   "outputs": [],
   "source": [
    "import nltk\n",
    "from nltk.tokenize import word_tokenize\n",
    "from sklearn.feature_extraction.text import CountVectorizer,TfidfVectorizer\n",
    "from nltk.util import ngrams"
   ]
  },
  {
   "cell_type": "code",
   "execution_count": 25,
   "id": "0892d115-d256-459f-a621-472e88663bcd",
   "metadata": {},
   "outputs": [
    {
     "name": "stderr",
     "output_type": "stream",
     "text": [
      "[nltk_data] Error loading puntk: <urlopen error [Errno 11001]\n",
      "[nltk_data]     getaddrinfo failed>\n"
     ]
    },
    {
     "data": {
      "text/plain": [
       "False"
      ]
     },
     "execution_count": 25,
     "metadata": {},
     "output_type": "execute_result"
    }
   ],
   "source": [
    "nltk.download('puntk')"
   ]
  },
  {
   "cell_type": "code",
   "execution_count": 29,
   "id": "3a881e59-5748-4ef1-98eb-c146af4f7bb5",
   "metadata": {},
   "outputs": [],
   "source": [
    "text='apple is looking at buying u.k.start up for $1 billion in 2025'"
   ]
  },
  {
   "cell_type": "code",
   "execution_count": 31,
   "id": "901b73b8-4269-47ce-80c8-81222cddb08c",
   "metadata": {},
   "outputs": [
    {
     "name": "stdout",
     "output_type": "stream",
     "text": [
      "['apple', 'is', 'looking', 'at', 'buying', 'u.k.start', 'up', 'for', '$', '1', 'billion', 'in', '2025']\n"
     ]
    }
   ],
   "source": [
    "token=word_tokenize(text)\n",
    "print(token)"
   ]
  },
  {
   "cell_type": "code",
   "execution_count": 33,
   "id": "4ed4f006-f869-47a6-8354-afe1eaef77b9",
   "metadata": {
    "scrolled": true
   },
   "outputs": [
    {
     "name": "stdout",
     "output_type": "stream",
     "text": [
      "['2025' 'apple' 'at' 'billion' 'buying' 'for' 'in' 'is' 'looking' 'start'\n",
      " 'up']\n",
      "[[1 1 1 1 1 1 1 1 1 1 1]]\n"
     ]
    }
   ],
   "source": [
    "vecter=CountVectorizer()\n",
    "bow=vecter.fit_transform([text])\n",
    "print(vecter.get_feature_names_out())\n",
    "print(bow.toarray())"
   ]
  },
  {
   "cell_type": "code",
   "execution_count": 37,
   "id": "00d0d6d7-2352-474f-a768-04c66f99d41e",
   "metadata": {},
   "outputs": [
    {
     "name": "stdout",
     "output_type": "stream",
     "text": [
      "['2025' 'apple' 'at' 'billion' 'buying' 'for' 'in' 'is' 'looking' 'start'\n",
      " 'up']\n",
      "[[0.30151134 0.30151134 0.30151134 0.30151134 0.30151134 0.30151134\n",
      "  0.30151134 0.30151134 0.30151134 0.30151134 0.30151134]]\n"
     ]
    }
   ],
   "source": [
    "tf=TfidfVectorizer()\n",
    "idf=tf.fit_transform([text])\n",
    "print(tf.get_feature_names_out())\n",
    "print(idf.toarray())"
   ]
  },
  {
   "cell_type": "code",
   "execution_count": null,
   "id": "adc9d43e-89e3-4ff2-a08b-beee7bee7c6e",
   "metadata": {},
   "outputs": [],
   "source": []
  }
 ],
 "metadata": {
  "kernelspec": {
   "display_name": "Python 3 (ipykernel)",
   "language": "python",
   "name": "python3"
  },
  "language_info": {
   "codemirror_mode": {
    "name": "ipython",
    "version": 3
   },
   "file_extension": ".py",
   "mimetype": "text/x-python",
   "name": "python",
   "nbconvert_exporter": "python",
   "pygments_lexer": "ipython3",
   "version": "3.13.5"
  }
 },
 "nbformat": 4,
 "nbformat_minor": 5
}
